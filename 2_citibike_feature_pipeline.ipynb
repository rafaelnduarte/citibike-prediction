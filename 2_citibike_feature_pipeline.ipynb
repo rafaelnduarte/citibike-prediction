{
 "cells": [
  {
   "cell_type": "markdown",
   "id": "74b6c01c",
   "metadata": {},
   "source": [
    "# Parte 02: Feature Pipeline\n",
    "\n",
    "\n",
    "## 🗒️ Este notebook é dividido em duas sessões:\n",
    "1. Análise de Dados.\n",
    "2. Inserção de novos dados ao Feature Store."
   ]
  },
  {
   "cell_type": "markdown",
   "id": "8d022a10",
   "metadata": {},
   "source": [
    "## 📝 Importando os Pacotes"
   ]
  },
  {
   "cell_type": "code",
   "execution_count": null,
   "id": "7faa949f",
   "metadata": {},
   "outputs": [],
   "source": [
    "# Importando os Pacotes\n",
    "from datetime import timedelta, datetime\n",
    "import pandas as pd\n",
    "import os\n",
    "\n",
    "from features import citibike, meteorological_measurements\n",
    "\n",
    "# Mutando os warnings\n",
    "import warnings\n",
    "warnings.filterwarnings(\"ignore\")"
   ]
  },
  {
   "cell_type": "markdown",
   "id": "d3dc1ac1",
   "metadata": {},
   "source": [
    "---"
   ]
  },
  {
   "cell_type": "markdown",
   "id": "77939976",
   "metadata": {},
   "source": [
    "## Conectando ao Hopsworks Feature Store"
   ]
  },
  {
   "cell_type": "code",
   "execution_count": null,
   "id": "608986f1",
   "metadata": {},
   "outputs": [],
   "source": [
    "# Importando os pacotes\n",
    "import hopsworks\n",
    "\n",
    "# Login na Hopsworks\n",
    "project = hopsworks.login()\n",
    "\n",
    "# Carregando o Feature Store\n",
    "fs = project.get_feature_store()"
   ]
  },
  {
   "cell_type": "code",
   "execution_count": null,
   "id": "2cc9d553",
   "metadata": {},
   "outputs": [],
   "source": [
    "# Recuperar Feature Group do citibike_usage e meteorological_measurements\n",
    "citibike_usage_fg = fs.get_or_create_feature_group(\n",
    "    name=\"citibike_usage\",\n",
    "    version=1,\n",
    ")\n",
    "\n",
    "meteorological_measurements_fg = fs.get_or_create_feature_group(\n",
    "    name=\"meteorological_measurements\",\n",
    "    version=1,\n",
    ")\n"
   ]
  },
  {
   "cell_type": "markdown",
   "id": "bf4c2d52",
   "metadata": {},
   "source": [
    "### 📅 Definindo a Data Mais Recente\n"
   ]
  },
  {
   "cell_type": "code",
   "execution_count": null,
   "id": "6f339455",
   "metadata": {
    "scrolled": true
   },
   "outputs": [],
   "source": [
    "# Definindo a última data de 'citibike_usage_fg' no Feature Group\n",
    "last_date = citibike.get_last_date_in_fg(citibike_usage_fg)\n",
    "last_date"
   ]
  },
  {
   "cell_type": "code",
   "execution_count": null,
   "id": "41c8bce4",
   "metadata": {},
   "outputs": [],
   "source": [
    "# Definindo o dia seguinte à 'last_date'\n",
    "next_date = citibike.get_next_date(last_date).split(\"-\")\n",
    "next_date"
   ]
  },
  {
   "cell_type": "code",
   "execution_count": null,
   "id": "93633194",
   "metadata": {},
   "outputs": [],
   "source": [
    "# Extrair o ano e o mês-alvo da próxima data\n",
    "target_year, target_month = int(next_date[0]), int(next_date[1])\n",
    "\n",
    "print(f\"Vamos baixar os dados do Citibike para {target_month}/{target_year}\")\n"
   ]
  },
  {
   "cell_type": "markdown",
   "id": "dce30ea9",
   "metadata": {},
   "source": [
    "---"
   ]
  },
  {
   "cell_type": "markdown",
   "id": "2bfde864",
   "metadata": {},
   "source": [
    "## 🪄 Analisando Novos Dados"
   ]
  },
  {
   "cell_type": "markdown",
   "id": "d41cb2c5",
   "metadata": {},
   "source": [
    "### 🚲 Informações Sobre o Uso do Citibike"
   ]
  },
  {
   "cell_type": "code",
   "execution_count": null,
   "id": "2ca902e0",
   "metadata": {},
   "outputs": [],
   "source": [
    "# Baixar dados do Citibike para o mês e ano especificados\n",
    "df_raw_batch = citibike.get_citibike_data(\n",
    "    f\"{target_month}/{target_year}\", \n",
    "    f\"{target_month}/{target_year}\",\n",
    ")\n",
    "df_raw_batch.head(3)\n"
   ]
  },
  {
   "cell_type": "code",
   "execution_count": null,
   "id": "6efc7e2f",
   "metadata": {},
   "outputs": [],
   "source": [
    "# Feature Engineering do Citibike para o lote de dados baixado\n",
    "df_enhanced_batch = citibike.engineer_citibike_features(\n",
    "    df_raw_batch,\n",
    ")\n"
   ]
  },
  {
   "cell_type": "code",
   "execution_count": null,
   "id": "62cb7d60",
   "metadata": {},
   "outputs": [],
   "source": [
    "# Drop rows with missing values in the enhanced batch DataFrame\n",
    "df_enhanced_batch = df_enhanced_batch.dropna()\n",
    "\n",
    "# Convert 'station_id' to string type for categorical representation\n",
    "df_enhanced_batch.station_id = df_enhanced_batch.station_id.astype(str)\n",
    "\n",
    "# Display the last three rows of the enhanced batch DataFrame\n",
    "df_enhanced_batch.tail(3)"
   ]
  },
  {
   "cell_type": "markdown",
   "id": "aa39e68f",
   "metadata": {},
   "source": [
    "### 🌤 Medidas Meteorológicas do VisualCrossing<"
   ]
  },
  {
   "cell_type": "markdown",
   "id": "623ed453",
   "metadata": {},
   "source": [
    "Você analisará dados meteorológicos, portanto, deve obter uma chave de API do [VisualCrossing](https://www.visualcrossing.com/). Você pode usar [este link](https://www.visualcrossing.com/weather-api).\n",
    "\n",
    "**Não se esqueça de criar um arquivo de configuração `.env` dentro deste diretório, onde todas as variáveis de ambiente necessárias serão armazenadas:**\n",
    "\n",
    "`WEATHER_API_KEY = \"SUA_CHAVE_DE_API\"`\n",
    "\n",
    "> Se você fizer isso depois de executar este notebook, reinicie o Kernel do Python (porque `functions.py` não terá essas variáveis em seu namespace).\n",
    "\n",
    "![](images/api_keys_env_file.png)"
   ]
  },
  {
   "cell_type": "code",
   "execution_count": null,
   "id": "525d223f",
   "metadata": {},
   "outputs": [],
   "source": [
    "# Converter a coluna 'date' para o tipo string\n",
    "df_enhanced_batch.date = df_enhanced_batch.date.astype(str)\n",
    "\n",
    "# Encontrar as datas mínima e máxima na coluna 'date' do DataFrame de lote aprimorado\n",
    "start_date, end_date = df_enhanced_batch.date.min(), df_enhanced_batch.date.max()"
   ]
  },
  {
   "cell_type": "code",
   "execution_count": null,
   "id": "183769e6",
   "metadata": {},
   "outputs": [],
   "source": [
    "# Obter dados meteorológicos para a cidade de Nova York dentro do intervalo de datas do DataFrame de lote aprimorado\n",
    "df_weather_batch = meteorological_measurements.get_weather_data(\n",
    "    city=\"nyc\", \n",
    "    start_date=start_date, \n",
    "    end_date=end_date,\n",
    ")\n",
    "df_weather_batch.tail(3)\n"
   ]
  },
  {
   "cell_type": "code",
   "execution_count": null,
   "id": "74198dc8",
   "metadata": {},
   "outputs": [],
   "source": [
    "# Corrigir tipos de dados para colunas especificadas no DataFrame de lote de clima\n",
    "for column in [\"snowdepth\", \"snow\"]:\n",
    "    df_weather_batch[column] = df_weather_batch[column].astype(\"double\")\n"
   ]
  },
  {
   "cell_type": "code",
   "execution_count": null,
   "id": "3b343078",
   "metadata": {},
   "outputs": [],
   "source": [
    "# Criação das colunas Unix\n",
    "df_enhanced_batch[\"timestamp\"] = df_enhanced_batch[\"date\"].apply(\n",
    "    meteorological_measurements.convert_date_to_unix\n",
    ")\n",
    "df_weather_batch[\"timestamp\"] = df_weather_batch[\"date\"].apply(\n",
    "    meteorological_measurements.convert_date_to_unix\n",
    ")\n"
   ]
  },
  {
   "cell_type": "markdown",
   "id": "ebdb3fa7",
   "metadata": {},
   "source": [
    "---"
   ]
  },
  {
   "cell_type": "markdown",
   "id": "d95d789c",
   "metadata": {},
   "source": [
    "## ⬆️ Enviando Novos Dados Para o Feature Store"
   ]
  },
  {
   "cell_type": "code",
   "execution_count": null,
   "id": "d207b245",
   "metadata": {},
   "outputs": [],
   "source": [
    "# Inserir novos dados\n",
    "citibike_usage_fg.insert(df_enhanced_batch)"
   ]
  },
  {
   "cell_type": "code",
   "execution_count": null,
   "id": "dfd8086a",
   "metadata": {},
   "outputs": [],
   "source": [
    "# Inserir novos dados\n",
    "meteorological_measurements_fg.insert(\n",
    "    df_weather_batch,\n",
    "    write_options={\"wait_for_job\": True},\n",
    ")\n"
   ]
  },
  {
   "cell_type": "markdown",
   "id": "4f39826e",
   "metadata": {},
   "source": [
    "---"
   ]
  },
  {
   "cell_type": "markdown",
   "id": "139be1e7",
   "metadata": {},
   "source": [
    "## ⏭️ **Próximo:** Parte 03: Pipeline de Treinamento\n",
    "\n",
    "No próximo notebook, você criará um Feature View, conjunto de dados de treinamento, treinará um modelo e o registrará no Registro de Modelos do Hopsworks."
   ]
  },
  {
   "cell_type": "markdown",
   "id": "093ddd3f",
   "metadata": {},
   "source": []
  }
 ],
 "metadata": {
  "kernelspec": {
   "display_name": "Python 3 (ipykernel)",
   "language": "python",
   "name": "python3"
  },
  "language_info": {
   "codemirror_mode": {
    "name": "ipython",
    "version": 3
   },
   "file_extension": ".py",
   "mimetype": "text/x-python",
   "name": "python",
   "nbconvert_exporter": "python",
   "pygments_lexer": "ipython3",
   "version": "3.9.18"
  }
 },
 "nbformat": 4,
 "nbformat_minor": 5
}
