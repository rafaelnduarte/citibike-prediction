{
 "cells": [
  {
   "cell_type": "markdown",
   "id": "7601bd38",
   "metadata": {
    "id": "ccbbf2cc"
   },
   "source": [
    "# Parte 01 - Feature Backfill\n",
    "\n",
    "Este material é baseado no tutorial avançado da Hopsworks Feature Store. Você irá trabalhar com dados relacionados ao uso de bicicletas do Citibike e observações meteorológicas na cidade de Nova York.\n",
    "\n",
    "O objetivo é trabalhar com o **Hopsworks Feature Store** para dados em lote, com o objetivo de treinar e implantar um modelo que possa prever o uso de bicicletas do Citibike por estação no futuro.\n",
    "\n",
    "## 🗒️ Este notebook está dividido em 3 seções:\n",
    "1. Carregamento dos dados e Feature Engineering.\n",
    "2. Conexão ao Hopsworks Feature Store.\n",
    "3. Criação Feature Groups e enviá-los para o feature store."
   ]
  },
  {
   "cell_type": "markdown",
   "id": "ed32afc3",
   "metadata": {
    "id": "akyCpdrP0GDH"
   },
   "source": [
    "## 📝 Importando os Pacotes"
   ]
  },
  {
   "cell_type": "code",
   "execution_count": null,
   "id": "990e400c",
   "metadata": {},
   "outputs": [],
   "source": [
    "# instalando os pacotes\n",
    "!pip install -U hopsworks --quiet\n",
    "!pip install python-dotenv"
   ]
  },
  {
   "cell_type": "code",
   "execution_count": null,
   "id": "9592775e",
   "metadata": {
    "id": "c3fd23b4"
   },
   "outputs": [],
   "source": [
    "# importando pacotes\n",
    "from datetime import timedelta, datetime\n",
    "import pandas as pd\n",
    "import plotly.express as px\n",
    "import os\n",
    "\n",
    "from pandas.tseries.holiday import USFederalHolidayCalendar\n",
    "\n",
    "from features import citibike, meteorological_measurements\n",
    "\n",
    "# Mutando avisos\n",
    "import warnings\n",
    "warnings.filterwarnings(\"ignore\")"
   ]
  },
  {
   "cell_type": "markdown",
   "id": "c0557cde",
   "metadata": {
    "id": "KVH8VU5g0JDP"
   },
   "source": [
    "---"
   ]
  },
  {
   "cell_type": "markdown",
   "id": "86c5470d",
   "metadata": {},
   "source": [
    "## 💽 Carregar os dados históricos e 🛠️ Realizar Engenharia de Características\n",
    "\n",
    "Os dados que você irá utilizar vêm de três fontes diferentes:\n",
    "\n",
    "- Históricos de viagens do Citi Bike [Trip Histories](https://s3.amazonaws.com/tripdata/index.html);\n",
    "- Obtenção de Feriados Nacionais dos EUA a partir do `USFederalHolidayCalendar` (pacote `pandas.tseries.holiday`);\n",
    "- Diferentes observações meteorológicas do [VisualCrossing](https://www.visualcrossing.com/)."
   ]
  },
  {
   "cell_type": "markdown",
   "id": "22340095",
   "metadata": {
    "id": "285d06c9"
   },
   "source": [
    "### 🚲 Informações sobre o uso do Citibike\n",
    "\n",
    "Os arquivos baixáveis dos dados de viagens do Citi Bike estão localizados [aqui](https://s3.amazonaws.com/tripdata/index.html). Originalmente, os dados incluem:\n",
    "\n",
    "| Original em Inglês               | Português                      |\n",
    "|--------------------------|--------------------------------|\n",
    "| Ride ID                  | Identificação da Viagem        |\n",
    "| Rideable type            | Tipo de Veículo                |\n",
    "| Started at               | Início da Viagem               |\n",
    "| Ended at                 | Fim da Viagem                  |\n",
    "| Start station name       | Nome da Estação de Início      |\n",
    "| Start station ID         | ID da Estação de Início        |\n",
    "| End station name         | Nome da Estação de Fim         |\n",
    "| End station ID           | ID da Estação de Fim           |\n",
    "| Start latitude           | Latitude de Início             |\n",
    "| Start longitude          | Longitude de Início            |\n",
    "| End latitude             | Latitude de Fim                |\n",
    "| End Longitude            | Longitude de Fim               |\n",
    "| Member or casual ride    | Membro ou Passeio Casual       |\n",
    "\n"
   ]
  },
  {
   "cell_type": "markdown",
   "id": "ae44de76",
   "metadata": {},
   "source": [
    "Vamos baixar alguns dados [daqui](https://s3.amazonaws.com/tripdata/index.html) e realizar o pré-processamento (remoção de colunas redundantes e agrupamento de dados)."
   ]
  },
  {
   "cell_type": "code",
   "execution_count": null,
   "id": "54627832",
   "metadata": {
    "scrolled": true
   },
   "outputs": [],
   "source": [
    "# Obtendo os dados\n",
    "df_raw = citibike.get_citibike_data(\"01/2023\", \"04/2023\")\n",
    "df_raw.head(3)"
   ]
  },
  {
   "cell_type": "code",
   "execution_count": null,
   "id": "95eb7665",
   "metadata": {},
   "outputs": [],
   "source": [
    "# Converter a coluna 'station_id' para o tipo string para representação categórica.\n",
    "df_raw.station_id = df_raw.station_id.astype(str)"
   ]
  },
  {
   "cell_type": "code",
   "execution_count": null,
   "id": "d496fdd7",
   "metadata": {},
   "outputs": [],
   "source": [
    "# Feature Engineering do Citibike\n",
    "df_enhanced = citibike.engineer_citibike_features(df_raw)\n",
    "\n",
    "# Remover linhas com valores ausentes no DataFrame aprimorado\n",
    "df_enhanced = df_enhanced.dropna()\n",
    "\n",
    "# Converter 'station_id' para o tipo string para representação categórica\n",
    "df_enhanced.station_id = df_enhanced.station_id.astype(str)\n",
    "\n",
    "# Exibir as três primeiras linhas do DataFrame aprimorado\n",
    "df_enhanced.head(3)\n"
   ]
  },
  {
   "cell_type": "code",
   "execution_count": null,
   "id": "58f8f21f",
   "metadata": {
    "scrolled": true
   },
   "outputs": [],
   "source": [
    "# Criando uma amostra de 'station_id' aleatório do DataFrame aprimorado\n",
    "random_station_id = df_enhanced.station_id.sample(1).values[0]\n",
    "\n",
    "# Exibir as três primeiras linhas do DataFrame aprimorado para o 'station_id' selecionado aleatoriamente\n",
    "df_enhanced[df_enhanced.station_id == random_station_id].head(3)\n"
   ]
  },
  {
   "cell_type": "code",
   "execution_count": null,
   "id": "cba9dfee",
   "metadata": {},
   "outputs": [],
   "source": [
    "# Exibir informações sobre o DataFrame, incluindo tipos de dados, contagens não nulas e uso de memória\n",
    "df_enhanced.info()"
   ]
  },
  {
   "cell_type": "markdown",
   "id": "aedc5568",
   "metadata": {},
   "source": [
    "### 📒 Informações sobre Estações do Citibike"
   ]
  },
  {
   "cell_type": "code",
   "execution_count": null,
   "id": "63a68bbd",
   "metadata": {},
   "outputs": [],
   "source": [
    "# Ler o arquivo CSV contendo informações da estação em um DataFrame\n",
    "df_stations_info = pd.read_csv(\"data/stations_info.csv\")\n"
   ]
  },
  {
   "cell_type": "code",
   "execution_count": null,
   "id": "d960d9ac",
   "metadata": {},
   "outputs": [],
   "source": [
    "# Remover linhas duplicadas com base na coluna 'station_id' no DataFrame de informações da estação\n",
    "df_stations_info = df_stations_info.drop_duplicates(subset=[\"station_id\"])\n",
    "\n",
    "# Resetar o índice do DataFrame e remover qualquer linha com valores ausentes\n",
    "df_stations_info = df_stations_info.reset_index(drop=True).dropna()\n",
    "\n",
    "# Converter 'station_id' para o tipo string para representação categórica\n",
    "df_stations_info.station_id = df_stations_info.station_id.astype(str)"
   ]
  },
  {
   "cell_type": "code",
   "execution_count": null,
   "id": "105028e5",
   "metadata": {},
   "outputs": [],
   "source": [
    "# Exibir as três primeiras linhas do DataFrame de informações da estação\n",
    "df_stations_info.head(3)"
   ]
  },
  {
   "cell_type": "code",
   "execution_count": null,
   "id": "f0360a2a",
   "metadata": {},
   "outputs": [],
   "source": [
    "# Criar um mapa de dispersão usando Plotly Express com informações da estação\n",
    "fig = px.scatter_mapbox(\n",
    "    df_stations_info, \n",
    "    lat=\"lat\", \n",
    "    lon=\"long\",\n",
    "    zoom=9.5,\n",
    "    hover_name=\"station_name\",\n",
    "    height=400,\n",
    "    width=600,\n",
    ")\n",
    "\n",
    "# Definir o estilo do mapa como 'open-street-map'\n",
    "fig.update_layout(mapbox_style=\"open-street-map\")\n",
    "\n",
    "# Ajustar as margens do layout para remover espaço desnecessário\n",
    "fig.update_layout(margin={\"r\": 0, \"t\": 0, \"l\": 0, \"b\": 0})\n",
    "\n",
    "# Exibir o mapa\n",
    "fig.show()"
   ]
  },
  {
   "cell_type": "markdown",
   "id": "517224b3",
   "metadata": {},
   "source": [
    "### 📅 Feriados nos Estados Unidos"
   ]
  },
  {
   "cell_type": "code",
   "execution_count": null,
   "id": "ca65a9b6",
   "metadata": {},
   "outputs": [],
   "source": [
    "# Criar um calendário de feriados federais dos EUA\n",
    "cal = USFederalHolidayCalendar()\n",
    "\n",
    "# Gerar uma feature para 20 anos de dias de feriado nos EUA\n",
    "start_date_for_cal = datetime.strptime('2017-01-01', '%Y-%m-%d')\n",
    "end_date_for_cal = start_date_for_cal + timedelta(days=365*10)\n",
    "\n",
    "# Criar um DataFrame com datas de feriados e uma coluna correspondente 'holiday'\n",
    "holidays = pd.DataFrame(\n",
    "    cal.holidays(start=start_date_for_cal, end=end_date_for_cal),\n",
    "    columns=['date'],\n",
    ")\n",
    "holidays['date'] = holidays['date'].dt.strftime('%Y-%m-%d')\n",
    "holidays['holiday'] = 1\n"
   ]
  },
  {
   "cell_type": "code",
   "execution_count": null,
   "id": "fa12d5a0",
   "metadata": {},
   "outputs": [],
   "source": [
    "# Criar um DataFrame com um intervalo de datas de start_date_for_cal a end_date_for_cal\n",
    "df_holidays = pd.DataFrame(\n",
    "    pd.date_range(start_date_for_cal, end_date_for_cal),\n",
    "    columns=[\"date\"],\n",
    ")\n",
    "\n",
    "# Formatar a coluna 'date' para corresponder ao formato '%Y-%m-%d'\n",
    "df_holidays['date'] = df_holidays['date'].dt.strftime('%Y-%m-%d')\n",
    "\n",
    "# Exibir as três primeiras linhas do DataFrame\n",
    "df_holidays.head(3)\n"
   ]
  },
  {
   "cell_type": "code",
   "execution_count": null,
   "id": "e93487c9",
   "metadata": {},
   "outputs": [],
   "source": [
    "# Definir a coluna 'date' como índice e unir o DataFrame 'holidays' na coluna 'date'\n",
    "# Preencher valores ausentes com 0 após a união\n",
    "df_holidays = df_holidays.set_index(\"date\").join(\n",
    "    holidays.set_index(\"date\"), \n",
    "    how=\"left\",\n",
    ").fillna(0)"
   ]
  },
  {
   "cell_type": "code",
   "execution_count": null,
   "id": "0c044390",
   "metadata": {},
   "outputs": [],
   "source": [
    "# Converter a coluna 'holiday' para o tipo inteiro\n",
    "df_holidays['holiday'] = df_holidays['holiday'].astype(int)\n",
    "\n",
    "# Resetar o índice, trazendo a coluna 'date' de volta como uma coluna regular\n",
    "df_holidays = df_holidays.reset_index(drop=False)\n",
    "\n",
    "# Exibir as três primeiras linhas do DataFrame\n",
    "df_holidays.head(3)\n"
   ]
  },
  {
   "cell_type": "code",
   "execution_count": null,
   "id": "73a33b2d",
   "metadata": {},
   "outputs": [],
   "source": [
    "# Verificando o DataFrame\n",
    "df_holidays.tail(3)"
   ]
  },
  {
   "cell_type": "markdown",
   "id": "7e5f8bd1",
   "metadata": {},
   "source": [
    "### 🌤 Medidas Meteorológicas do VisualCrossing"
   ]
  },
  {
   "cell_type": "markdown",
   "id": "ba160d85-10f3-4d7b-b9b4-efd706b6ceba",
   "metadata": {},
   "source": [
    "Você irá analisar os dados meteorológicos, então você deve obter uma chave de API do [VisualCrossing](https://www.visualcrossing.com/). Você pode usar [este link](https://www.visualcrossing.com/weather-api).\n",
    "\n",
    "#### Não se esqueça de criar um arquivo de configuração `.env` dentro deste diretório, onde todas as variáveis de ambiente necessárias serão armazenadas:\n",
    "\n",
    "`WEATHER_API_KEY = \"SUA_CHAVE_DE_API\"`\n",
    "\n",
    "> Se você fizer isso depois de executar este notebook, reinicie o Kernel do Python (porque `functions.py` não terá essas variáveis em seu namespace).\n",
    "\n",
    "![](images/api_keys_env_file.png)"
   ]
  },
  {
   "cell_type": "code",
   "execution_count": null,
   "id": "c619138e",
   "metadata": {},
   "outputs": [],
   "source": [
    "# Converter a coluna 'date' para o tipo string\n",
    "df_enhanced.date = df_enhanced.date.astype(str)\n",
    "\n",
    "# Encontrar as datas mínima e máxima na coluna 'date'\n",
    "start_date, end_date = df_enhanced.date.min(), df_enhanced.date.max()\n"
   ]
  },
  {
   "cell_type": "code",
   "execution_count": null,
   "id": "0b2515c9",
   "metadata": {},
   "outputs": [],
   "source": [
    "# Obter dados meteorológicos para a cidade de Nova York dentro do intervalo de datas especificado\n",
    "df_weather = meteorological_measurements.get_weather_data(\n",
    "    city=\"nyc\",\n",
    "    start_date=str(start_date).split()[0],\n",
    "    end_date=str(end_date).split()[0],\n",
    ")\n",
    "df_weather.tail(3)\n"
   ]
  },
  {
   "cell_type": "code",
   "execution_count": null,
   "id": "b67b32d9",
   "metadata": {},
   "outputs": [],
   "source": [
    "# Criação das colunas Unix\n",
    "df_enhanced[\"timestamp\"] = df_enhanced[\"date\"].apply(\n",
    "    meteorological_measurements.convert_date_to_unix\n",
    ")\n",
    "df_holidays[\"timestamp\"] = df_holidays[\"date\"].apply(\n",
    "    meteorological_measurements.convert_date_to_unix\n",
    ")\n",
    "df_weather[\"timestamp\"] = df_weather[\"date\"].apply(\n",
    "    meteorological_measurements.convert_date_to_unix\n",
    ")\n"
   ]
  },
  {
   "cell_type": "markdown",
   "id": "49834242",
   "metadata": {
    "id": "H1aYmOX60MXj"
   },
   "source": [
    "---"
   ]
  },
  {
   "cell_type": "markdown",
   "id": "dab06068",
   "metadata": {},
   "source": [
    "##  📡 Conectando ao Hopsworks Feature Store"
   ]
  },
  {
   "cell_type": "code",
   "execution_count": null,
   "id": "c553b1f8",
   "metadata": {
    "id": "cae776d7"
   },
   "outputs": [],
   "source": [
    "# Importando os pacotes\n",
    "import hopsworks\n",
    "\n",
    "project = hopsworks.login()\n",
    "\n",
    "fs = project.get_feature_store()"
   ]
  },
  {
   "cell_type": "markdown",
   "id": "da6ba183",
   "metadata": {},
   "source": [
    "---"
   ]
  },
  {
   "cell_type": "markdown",
   "id": "5b93d95e",
   "metadata": {},
   "source": [
    "## 🪄 Criando Grupos de Características\n",
    "\n",
    "Um [feature group](https://docs.hopsworks.ai/3.0/concepts/fs/feature_group/fg_overview/) pode ser visto como uma coleção de características conceitualmente relacionadas. Neste caso, você irá criar os seguintes grupos de características: Uso do CitiBike por estação, Informações das Estações, Medidas Meteorológicas em NYC e Feriados nos EUA.\n",
    "\n",
    "Uma vez criado o Feature Group, basta fazer as inserções.\n",
    "\n",
    "`fs.get_or_create_feature_group`: Este método é utilizado para obter ou criar um feature group no **Hopsworks Feature Store**. Neste caso, está sendo criado um feature group chamado \"citibike_usage\". Os parâmetros incluem o nome, versão, descrição, chave primária (composta por \"date\" e \"station_id\") e o tempo do evento definido como \"timestamp\".\n",
    "\n",
    "`citibike_usage_fg.insert`: Este método insere dados no grupo de características 'citibike_usage'. O DataFrame df_enhanced é utilizado como fonte de dados. O parâmetro write_options={\"wait_for_job\": True} indica que o código deve esperar pela conclusão da inserção antes de continuar."
   ]
  },
  {
   "cell_type": "code",
   "execution_count": null,
   "id": "8d715bd8",
   "metadata": {},
   "outputs": [],
   "source": [
    "# Criando o Feature Group citibike_usage_fg\n",
    "citibike_usage_fg = fs.get_or_create_feature_group(\n",
    "    name=\"citibike_usage\",\n",
    "    version=1,\n",
    "    description=\"Citibike stations usage data.\",\n",
    "    primary_key=[\"date\", \"station_id\"],\n",
    "    event_time=\"timestamp\",\n",
    ")"
   ]
  },
  {
   "cell_type": "code",
   "execution_count": null,
   "id": "3e10b145",
   "metadata": {
    "scrolled": true
   },
   "outputs": [],
   "source": [
    "# Inserindo no Feature Group citibike_usage_fg\n",
    "citibike_usage_fg.insert(\n",
    "    df_enhanced,\n",
    "    write_options={\"wait_for_job\": True},\n",
    ")"
   ]
  },
  {
   "cell_type": "code",
   "execution_count": null,
   "id": "c7af8432",
   "metadata": {
    "id": "c691d509"
   },
   "outputs": [],
   "source": [
    "# Criando o Feature Group citibike_stations_info_fg\n",
    "citibike_stations_info_fg = fs.get_or_create_feature_group(\n",
    "    name=\"citibike_stations_info\",\n",
    "    version=1,\n",
    "    description=\"Citibike stations information.\",\n",
    "    primary_key=['station_id'],\n",
    ")"
   ]
  },
  {
   "cell_type": "code",
   "execution_count": null,
   "id": "29631f51",
   "metadata": {
    "id": "67228279"
   },
   "outputs": [],
   "source": [
    "# Inserindo no Feature Group citibike_stations_info_fg\n",
    "citibike_stations_info_fg.insert(\n",
    "    df_stations_info,\n",
    "    write_options={\"wait_for_job\": True},\n",
    ")"
   ]
  },
  {
   "cell_type": "code",
   "execution_count": null,
   "id": "8a5c6266",
   "metadata": {},
   "outputs": [],
   "source": [
    "# Criando o Feature Group us_holidays_fg\n",
    "us_holidays_fg = fs.get_or_create_feature_group(\n",
    "    name=\"us_holidays\",\n",
    "    version=1,\n",
    "    description=\"US holidays calendar.\",\n",
    "    primary_key=[\"date\"],\n",
    "    event_time=\"timestamp\",\n",
    ")"
   ]
  },
  {
   "cell_type": "code",
   "execution_count": null,
   "id": "014d4c35",
   "metadata": {},
   "outputs": [],
   "source": [
    "# Inserindo no Feature Group us_holidays_fg\n",
    "us_holidays_fg.insert(\n",
    "    df_holidays,\n",
    "    write_options={\"wait_for_job\": True},\n",
    ")"
   ]
  },
  {
   "cell_type": "code",
   "execution_count": null,
   "id": "847ab26c",
   "metadata": {},
   "outputs": [],
   "source": [
    "# Criando o Feature Group meteorological_measurements_fg\n",
    "meteorological_measurements_fg = fs.get_or_create_feature_group(\n",
    "    name=\"meteorological_measurements\",\n",
    "    version=1,\n",
    "    description=\"Meteorological measurements for NYC.\",\n",
    "    primary_key=[\"date\"],\n",
    "    event_time=\"timestamp\",\n",
    ")"
   ]
  },
  {
   "cell_type": "code",
   "execution_count": null,
   "id": "d72fd5f1",
   "metadata": {
    "scrolled": true
   },
   "outputs": [],
   "source": [
    "# Inserindo no Feature Group meteorological_measurements_fg\n",
    "meteorological_measurements_fg.insert(\n",
    "    df_weather, \n",
    "    write_options={\"wait_for_job\": True},\n",
    ")"
   ]
  },
  {
   "cell_type": "markdown",
   "id": "a373a025",
   "metadata": {},
   "source": [
    "## ⏭️ **Próxima Aula:** Parte 02: Feature Pipeline\n",
    "\n",
    "No próximo notebook, você estará analisando novos dados mensais para os Feature Groups.\n"
   ]
  }
 ],
 "metadata": {
  "colab": {
   "collapsed_sections": [],
   "provenance": []
  },
  "kernelspec": {
   "display_name": "Python 3 (ipykernel)",
   "language": "python",
   "name": "python3"
  },
  "language_info": {
   "codemirror_mode": {
    "name": "ipython",
    "version": 3
   },
   "file_extension": ".py",
   "mimetype": "text/x-python",
   "name": "python",
   "nbconvert_exporter": "python",
   "pygments_lexer": "ipython3",
   "version": "3.12.0"
  }
 },
 "nbformat": 4,
 "nbformat_minor": 5
}
