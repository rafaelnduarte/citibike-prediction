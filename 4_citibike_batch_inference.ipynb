{
 "cells": [
  {
   "cell_type": "markdown",
   "id": "c958e52b",
   "metadata": {},
   "source": [
    "# Part 04: Batch Inference\n",
    "\n",
    "\n",
    "## 🗒️ Este notebook está dividido nas seguintes seções:\n",
    "\n",
    "1. Carregar dados em lote.\n",
    "2. Prever usando o modelo do Registro de Modelos."
   ]
  },
  {
   "cell_type": "markdown",
   "id": "8855ee1a",
   "metadata": {},
   "source": [
    "## 📝 Importando os Pacotes"
   ]
  },
  {
   "cell_type": "code",
   "execution_count": null,
   "id": "019c9226",
   "metadata": {},
   "outputs": [],
   "source": [
    "# Importando os pacotes\n",
    "import joblib"
   ]
  },
  {
   "cell_type": "markdown",
   "id": "ce2fe8a8",
   "metadata": {},
   "source": [
    "## 📡 Conectando ao Hopsworks Feature Store"
   ]
  },
  {
   "cell_type": "code",
   "execution_count": null,
   "id": "39f83bc9",
   "metadata": {},
   "outputs": [],
   "source": [
    "# Importando os pacotes\n",
    "import hopsworks\n",
    "\n",
    "# Login na Hopsworks\n",
    "project = hopsworks.login()\n",
    "\n",
    "# Carregando o Feature Store\n",
    "fs = project.get_feature_store()"
   ]
  },
  {
   "cell_type": "markdown",
   "id": "87485ee0",
   "metadata": {},
   "source": [
    "## ⚙️ Carregando o Feature View\n"
   ]
  },
  {
   "cell_type": "code",
   "execution_count": null,
   "id": "e622d6b4",
   "metadata": {},
   "outputs": [],
   "source": [
    "# Carregando o Feature View 'citibike_fv'\n",
    "feature_view = fs.get_feature_view(\n",
    "    name='citibike_fv',\n",
    "    version=1,\n",
    ")\n"
   ]
  },
  {
   "cell_type": "markdown",
   "id": "e1dac8b6",
   "metadata": {},
   "source": [
    "## 🗄 Registro de Modelos\n"
   ]
  },
  {
   "cell_type": "code",
   "execution_count": null,
   "id": "ca35a9f4",
   "metadata": {},
   "outputs": [],
   "source": [
    "# Obter o registro de modelos para o projeto\n",
    "mr = project.get_model_registry()"
   ]
  },
  {
   "cell_type": "markdown",
   "id": "6f3589dc",
   "metadata": {},
   "source": [
    "## 📮 Recuperando modelo do Registro de Modelos "
   ]
  },
  {
   "cell_type": "code",
   "execution_count": null,
   "id": "6ac8014f",
   "metadata": {},
   "outputs": [],
   "source": [
    "# Obter a versão especificada do 'citibike_xgb_model' do registro de modelos\n",
    "modelo_recuperado = mr.get_model(\n",
    "    name=\"citibike_xgb_model\",\n",
    "    version=1,\n",
    ")\n",
    "\n",
    "# Baixar o diretório do modelo salvo\n",
    "diretorio_modelo_salvo = modelo_recuperado.download()\n"
   ]
  },
  {
   "cell_type": "code",
   "execution_count": null,
   "id": "1a1221c7",
   "metadata": {},
   "outputs": [],
   "source": [
    "# Carregar o modelo XGBoost do diretório do modelo baixado\n",
    "modelo_xgboost_recuperado = joblib.load(diretorio_modelo_salvo + \"/citibike_xgb_model.pkl\")\n",
    "\n",
    "# Exibir o modelo XGBoost recuperado\n",
    "modelo_xgboost_recuperado"
   ]
  },
  {
   "cell_type": "markdown",
   "id": "3ad20124",
   "metadata": {},
   "source": [
    "## 🤖 Fazendo Previsões"
   ]
  },
  {
   "cell_type": "markdown",
   "id": "21c82dc9",
   "metadata": {},
   "source": [
    "### ✨ Carregar Dados em Lote"
   ]
  },
  {
   "cell_type": "code",
   "execution_count": null,
   "id": "7d10c618",
   "metadata": {},
   "outputs": [],
   "source": [
    "# Inicializar Batch Scoring\n",
    "feature_view.init_batch_scoring(1)\n",
    "\n",
    "# Obter um lote de dados da Feature View dentro do intervalo de tempo especificado\n",
    "dados_em_lote = feature_view.get_batch_data(\n",
    "    start_time='2023-04-30',\n",
    "    end_time='2023-05-30',\n",
    ")\n",
    "\n",
    "# Exibir as primeiras linhas dos dados em lote\n",
    "dados_em_lote.head(3)"
   ]
  },
  {
   "cell_type": "code",
   "execution_count": null,
   "id": "7b6410e0",
   "metadata": {},
   "outputs": [],
   "source": [
    "# Converter as colunas especificadas nos dados em lote para o tipo float\n",
    "dados_em_lote.iloc[:, 1:-1] = dados_em_lote.iloc[:, 1:-1].astype(float)\n",
    "\n",
    "# Definir o índice multinível para os dados em lote usando as colunas 'date' e 'station_id'\n",
    "X_em_lote = dados_em_lote.set_index([\"date\", \"station_id\"])\n"
   ]
  },
  {
   "cell_type": "code",
   "execution_count": null,
   "id": "9922d9ef",
   "metadata": {},
   "outputs": [],
   "source": [
    "# Fazer previsões usando o modelo XGBoost recuperado nos dados em lote\n",
    "previsoes = modelo_xgboost_recuperado.predict(X_em_lote)\n",
    "\n",
    "# Exibir as primeiras 10 previsões\n",
    "previsoes[:10]\n"
   ]
  },
  {
   "cell_type": "markdown",
   "id": "89bc07f2",
   "metadata": {},
   "source": [
    "---\n",
    "\n",
    "### 🥳 <b> Próximos Passos </b>\n",
    "Aplicativo no Streamlit"
   ]
  }
 ],
 "metadata": {
  "kernelspec": {
   "display_name": "Python 3 (ipykernel)",
   "language": "python",
   "name": "python3"
  },
  "language_info": {
   "codemirror_mode": {
    "name": "ipython",
    "version": 3
   },
   "file_extension": ".py",
   "mimetype": "text/x-python",
   "name": "python",
   "nbconvert_exporter": "python",
   "pygments_lexer": "ipython3",
   "version": "3.9.18"
  }
 },
 "nbformat": 4,
 "nbformat_minor": 5
}
