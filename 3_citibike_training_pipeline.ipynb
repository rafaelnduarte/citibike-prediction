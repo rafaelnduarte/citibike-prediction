{
 "cells": [
  {
   "cell_type": "markdown",
   "id": "fd5a44c9",
   "metadata": {},
   "source": [
    "# Part 03: Training Pipeline\n",
    "\n",
    "\n",
    "## 🗒️ Este notebook está dividido em 3 seções principais:\n",
    "1. Feature Selection.\n",
    "2. Pré-processamento de dados.\n",
    "3. Criação de conjuntos de dados de treinamento.\n",
    "4. Carregamento dos dados de treinamento.\n",
    "5. Treinamento do modelo.\n",
    "6. Registrar o modelo no registro de modelos do Hopsworks.\n",
    "\n",
    "![02_training-dataset](../../images/02_training-dataset.png)"
   ]
  },
  {
   "cell_type": "markdown",
   "id": "5272c5bf",
   "metadata": {},
   "source": [
    "## 📝 Importando os Pacotes"
   ]
  },
  {
   "cell_type": "code",
   "execution_count": null,
   "id": "f2216406",
   "metadata": {},
   "outputs": [],
   "source": [
    "# Importando pacotes\n",
    "import joblib\n",
    "import os\n",
    "\n",
    "import pandas as pd\n",
    "import numpy as np\n",
    "\n",
    "import matplotlib.pyplot as plt\n",
    "import seaborn as sns\n",
    "\n",
    "from sklearn.model_selection import train_test_split\n",
    "import xgboost as xgb\n",
    "\n",
    "from sklearn.metrics import r2_score\n",
    "\n",
    "# Mutando warnings\n",
    "import warnings\n",
    "warnings.filterwarnings('ignore')"
   ]
  },
  {
   "cell_type": "markdown",
   "id": "5f08ae28",
   "metadata": {},
   "source": [
    "---"
   ]
  },
  {
   "cell_type": "markdown",
   "id": "3c4e057b",
   "metadata": {},
   "source": [
    "## 📡 Conectando ao Hopsworks Feature Store"
   ]
  },
  {
   "cell_type": "code",
   "execution_count": null,
   "id": "f2910bd8",
   "metadata": {
    "scrolled": true
   },
   "outputs": [],
   "source": [
    "# Importando os pacotes\n",
    "import hopsworks\n",
    "\n",
    "# Login na Hopsworks\n",
    "project = hopsworks.login()\n",
    "\n",
    "# Carregando o Feature Store\n",
    "fs = project.get_feature_store()"
   ]
  },
  {
   "cell_type": "code",
   "execution_count": null,
   "id": "09927639",
   "metadata": {},
   "outputs": [],
   "source": [
    "# Recuperando os Feature Groups\n",
    "citibike_usage_fg = fs.get_or_create_feature_group(\n",
    "    name=\"citibike_usage\",\n",
    "    version=1,\n",
    ")\n",
    "\n",
    "citibike_stations_info_fg = fs.get_or_create_feature_group(\n",
    "    name=\"citibike_stations_info\",\n",
    "    version=1,\n",
    ")\n",
    "\n",
    "us_holidays_fg = fs.get_or_create_feature_group(\n",
    "    name=\"us_holidays\",\n",
    "    version=1,\n",
    ")\n",
    "\n",
    "meteorological_measurements_fg = fs.get_or_create_feature_group(\n",
    "    name=\"meteorological_measurements\",\n",
    "    version=1,\n",
    ")"
   ]
  },
  {
   "cell_type": "markdown",
   "id": "5c162680",
   "metadata": {},
   "source": [
    "---"
   ]
  },
  {
   "cell_type": "markdown",
   "id": "2963c406",
   "metadata": {},
   "source": [
    "## 🖍 Criação e Recuperação da Feature View\n",
    "\n",
    "Vamos começar selecionando todas as features que você deseja incluir para treinamento/inferência do modelo."
   ]
  },
  {
   "cell_type": "code",
   "execution_count": null,
   "id": "abddfc94",
   "metadata": {},
   "outputs": [],
   "source": [
    "# Selecionar features para os dados de treinamento.\n",
    "query = meteorological_measurements_fg.select_except([\"timestamp\"])\\\n",
    "                          .join(\n",
    "                                us_holidays_fg.select_except([\"timestamp\"]),\n",
    "                                on=\"date\", join_type=\"left\"\n",
    "                          )\\\n",
    "                          .join(\n",
    "                              citibike_usage_fg.select_except([\"timestamp\"]),\n",
    "                              on=\"date\", join_type=\"left\"\n",
    "                          )\n"
   ]
  },
  {
   "cell_type": "code",
   "execution_count": null,
   "id": "e4f346fb",
   "metadata": {
    "scrolled": true
   },
   "outputs": [],
   "source": [
    "# # Remova o comentário e execute a célula abaixo se quiser ver algumas linhas desta consulta\n",
    "# # mas você terá que esperar algum tempo\n",
    "\n",
    "# query.read()\n"
   ]
  },
  {
   "cell_type": "markdown",
   "id": "aa092bc9",
   "metadata": {},
   "source": [
    "`Feature Views` fica entre **Feature Groups** e **Conjuntos de Dados de Treinamento**. Combinando **Feature Groups**, podemos criar **Feature Views** que armazenam metadados de nossos dados. Tendo **Feature Views**, podemos criar **Conjuntos de Dados de Treinamento**.\n",
    "\n",
    "As Feature Views permitem esquemas na forma de uma consulta com filtros, definem uma feature/label de destino do modelo e funções de transformação adicionais.\n",
    "\n",
    "Para criar uma Feature View, podemos usar o método `FeatureStore.get_or_create_feature_view()`.\n",
    "\n",
    "Podemos especificar os seguintes parâmetros:\n",
    "\n",
    "- `name` - nome do grupo de características.\n",
    "\n",
    "- `version` - versão do grupo de características.\n",
    "\n",
    "- `labels` - nossa variável alvo.\n",
    "\n",
    "- `transformation_functions` - funções para transformar nossas características.\n",
    "\n",
    "- `query` - objeto de consulta com dados."
   ]
  },
  {
   "cell_type": "code",
   "execution_count": null,
   "id": "0bf70fac",
   "metadata": {},
   "outputs": [],
   "source": [
    "# Criando o Feature View\n",
    "feature_view = fs.get_or_create_feature_view(\n",
    "    name='citibike_fv',\n",
    "    query=query,\n",
    "    labels=[\"users_count\"],\n",
    "    version=1,   \n",
    ")"
   ]
  },
  {
   "cell_type": "markdown",
   "id": "99c6f378",
   "metadata": {},
   "source": [
    "---\n",
    "\n",
    "## 🏋️ Criando o Dataset de Treino\n",
    "\n",
    "No Hopsworks, o conjunto de dados de treinamento é uma query em que a projeção (conjunto de features) é determinada pela `FeatureView` parent, com uma opção de snapshot no disco dos dados retornados pela consulta.\n",
    "\n",
    "**O conjunto de dados de treinamento pode conter divisões como:** \n",
    "* Conjunto de treinamento - o subconjunto de dados de treinamento usado para treinar um modelo.\n",
    "* Conjunto de validação - o subconjunto de dados de treinamento usado para avaliar hparams ao treinar um modelo.\n",
    "* Conjunto de teste - o subconjunto de dados de treinamento retido usado para avaliar um modelo.\n",
    "\n",
    "Para criar um conjunto de dados de treinamento, você usará o método `FeatureView.train_test_split()`.\n",
    "\n",
    "Aqui estão algumas coisas importantes:\n",
    "\n",
    "- Ele herda o nome da `FeatureView`.\n",
    "\n",
    "- O `feature store` atualmente suporta os seguintes formatos de dados para conjuntos de dados de treinamento: **tfrecord, csv, tsv, parquet, avro, orc**.\n",
    "\n",
    "- Você pode escolher o formato desejado usando o parâmetro **data_format**.\n",
    "\n",
    "- **start_time** e **end_time** para filtrar o conjunto de dados em um intervalo de tempo específico.\n",
    "\n",
    "- Você pode criar divisões **treino, teste** usando `train_test_split()`.\n",
    "\n",
    "- Você pode criar divisões **treino, validação, teste** usando os métodos `train_validation_test_splits()`.\n",
    "\n",
    "- A única coisa é que devemos especificar a proporção desejada das divisões."
   ]
  },
  {
   "cell_type": "code",
   "execution_count": null,
   "id": "a6a7871c",
   "metadata": {
    "scrolled": true
   },
   "outputs": [],
   "source": [
    "# Separando os conjuntos em treino e teste\n",
    "X_train, X_test, y_train, y_test = feature_view.train_test_split(\n",
    "    train_start=\"2023-01-01\",\n",
    "    train_end=\"2023-05-01\",\n",
    "    test_start=\"2023-05-02\",\n",
    "    test_end=\"2023-05-31\",\n",
    ")"
   ]
  },
  {
   "cell_type": "code",
   "execution_count": null,
   "id": "eb27d58b",
   "metadata": {},
   "outputs": [],
   "source": [
    "# Converter as colunas especificadas no conjunto de treinamento para o tipo float\n",
    "X_train.iloc[:, 1:-1] = X_train.iloc[:, 1:-1].astype(float)\n",
    "\n",
    "# Converter as colunas especificadas no conjunto de teste para o tipo float\n",
    "X_test.iloc[:, 1:-1] = X_test.iloc[:, 1:-1].astype(float)\n",
    "\n",
    "print(f'⛳️ Formato de X_train: {X_train.shape}')\n",
    "print(f'⛳️ Formato de y_train: {y_train.shape}')\n"
   ]
  },
  {
   "cell_type": "code",
   "execution_count": null,
   "id": "4d68fc49",
   "metadata": {},
   "outputs": [],
   "source": [
    "# Definir o índice de vários níveis para o conjunto de treinamento usando as colunas 'date' e 'station_id'\n",
    "X_train = X_train.set_index([\"date\", \"station_id\"])\n",
    "\n",
    "# Definir o índice de vários níveis para o conjunto de teste usando as colunas 'date' e 'station_id'\n",
    "X_test = X_test.set_index([\"date\", \"station_id\"])\n",
    "\n",
    "# Remover linhas com valores ausentes no conjunto de treinamento\n",
    "X_train.dropna(inplace=True)\n",
    "\n",
    "# Remover linhas com valores ausentes no conjunto de teste\n",
    "X_test.dropna(inplace=True)\n",
    "\n",
    "# Remover linhas com valores ausentes nos rótulos de treinamento\n",
    "y_train.dropna(inplace=True)\n",
    "\n",
    "# Remover linhas com valores ausentes nos rótulos de teste\n",
    "y_test.dropna(inplace=True)\n",
    "\n",
    "# Exibir as três primeiras linhas do conjunto de treinamento\n",
    "X_train.head(3)\n"
   ]
  },
  {
   "cell_type": "markdown",
   "id": "436bd004",
   "metadata": {},
   "source": [
    "---\n",
    "## 🧬 Machine Learning"
   ]
  },
  {
   "cell_type": "code",
   "execution_count": null,
   "id": "11efe09b",
   "metadata": {},
   "outputs": [],
   "source": [
    "# Criar um Regressor XGBoost\n",
    "regressor = xgb.XGBRegressor()\n",
    "\n",
    "# Treinar o modelo usando o conjunto de treinamento\n",
    "regressor.fit(X_train, y_train)\n"
   ]
  },
  {
   "cell_type": "code",
   "execution_count": null,
   "id": "2b8e790a",
   "metadata": {},
   "outputs": [],
   "source": [
    "# Fazer previsões usando o modelo XGBoost treinado\n",
    "y_pred = regressor.predict(X_test)\n",
    "\n",
    "# Calcular e mostrar o R2 Score para o modelo XGBoost\n",
    "r2_xgb = r2_score(y_pred, y_test.values)\n",
    "print(\"🎯 R2 Score para o modelo XGBoost:\", r2_xgb)\n"
   ]
  },
  {
   "cell_type": "code",
   "execution_count": null,
   "id": "a2db802f",
   "metadata": {},
   "outputs": [],
   "source": [
    "# Criar um DataFrame com valores reais e previstos\n",
    "df_ = pd.DataFrame({\n",
    "    \"y_true\": np.hstack(y_test.values),\n",
    "    \"y_pred\": y_pred,\n",
    "})\n",
    "\n",
    "# Criar um gráfico de resíduos usando o Seaborn\n",
    "residplot = sns.residplot(data=df_, x=\"y_true\", y=\"y_pred\", color='#613F75')\n",
    "\n",
    "# Definir títulos e rótulos do gráfico\n",
    "plt.title('Resíduos do Modelo')\n",
    "plt.xlabel('Observação #')\n",
    "plt.ylabel('Erro')\n",
    "\n",
    "# Mostrar o gráfico\n",
    "plt.show()\n"
   ]
  },
  {
   "cell_type": "code",
   "execution_count": null,
   "id": "f60d8fc0",
   "metadata": {},
   "outputs": [],
   "source": [
    "# Plotando o residual\n",
    "fig = residplot.get_figure()\n"
   ]
  },
  {
   "cell_type": "markdown",
   "id": "641ade81",
   "metadata": {},
   "source": [
    "---\n",
    "### ⚙️ Esquema do Modelo\n",
    "\n",
    "O modelo precisa ser configurado com um [Esquema do Modelo](https://docs.hopsworks.ai/3.0/user_guides/mlops/registry/model_schema/), que descreve as entradas e saídas para um modelo.\n",
    "\n",
    "Um Esquema do Modelo pode ser gerado automaticamente a partir de exemplos de treinamento, como mostrado abaixo."
   ]
  },
  {
   "cell_type": "code",
   "execution_count": null,
   "id": "aecf4adf",
   "metadata": {},
   "outputs": [],
   "source": [
    "# Importando os pacotes necessários\n",
    "from hsml.schema import Schema\n",
    "from hsml.model_schema import ModelSchema\n",
    "\n",
    "# Criar esquemas de entrada e saída usando os dados de treinamento fornecidos\n",
    "input_schema = Schema(X_train)\n",
    "output_schema = Schema(y_train)\n",
    "\n",
    "# Criar um esquema de modelo com os esquemas de entrada e saída\n",
    "model_schema = ModelSchema(input_schema=input_schema, output_schema=output_schema)\n",
    "\n",
    "# Converter o esquema do modelo para um dicionário\n",
    "model_schema.to_dict()\n"
   ]
  },
  {
   "cell_type": "markdown",
   "id": "3c97a550",
   "metadata": {},
   "source": [
    "## 🗄 Registro de Modelos\n",
    "\n",
    "Uma das funcionalidades no Hopsworks é o registro de modelos (*Model Registry*). É aqui que você pode armazenar diferentes versões de modelos e comparar seu desempenho. Modelos do registro podem então ser disponibilizados como pontos de Endpoints de API."
   ]
  },
  {
   "cell_type": "code",
   "execution_count": null,
   "id": "1feacc3e",
   "metadata": {},
   "outputs": [],
   "source": [
    "# Criar um diretório para o modelo se ele não existir\n",
    "model_dir = \"citibike_xgb_model\"\n",
    "if not os.path.isdir(model_dir):\n",
    "    os.mkdir(model_dir)\n",
    "\n",
    "# Salvar o modelo de regressão XGBoost no diretório especificado\n",
    "joblib.dump(regressor, model_dir + '/citibike_xgb_model.pkl')\n",
    "\n",
    "# Salvar o plot do gráfico de resíduos como uma imagem no diretório do modelo\n",
    "fig.savefig(model_dir + \"/residplot.png\")\n"
   ]
  },
  {
   "cell_type": "code",
   "execution_count": null,
   "id": "0102be25",
   "metadata": {},
   "outputs": [],
   "source": [
    "# Obter o registro de modelos para o projeto\n",
    "mr = project.get_model_registry()\n",
    "\n",
    "# Criar um modelo Python no registro de modelos\n",
    "citibike_model = mr.python.create_model(\n",
    "    name=\"citibike_xgb_model\", \n",
    "    metrics={\"r2_score\": r2_xgb},\n",
    "    model_schema=model_schema,\n",
    "    input_example=X_train.sample(), \n",
    "    description=\"Predictor de usuários do Citibike por estação\",\n",
    ")\n",
    "\n",
    "# Salvar o diretório do modelo no registro de modelos\n",
    "citibike_model.save(model_dir)\n"
   ]
  },
  {
   "cell_type": "markdown",
   "id": "4d5ec11d",
   "metadata": {},
   "source": [
    "## ⏭️ **Próxima Aula:** Parte 04: Inferência em Lote\n",
    "\n",
    "No próximo notebook, você usará seu modelo registrado para prever dados em lote."
   ]
  }
 ],
 "metadata": {
  "kernelspec": {
   "display_name": "Python 3 (ipykernel)",
   "language": "python",
   "name": "python3"
  },
  "language_info": {
   "codemirror_mode": {
    "name": "ipython",
    "version": 3
   },
   "file_extension": ".py",
   "mimetype": "text/x-python",
   "name": "python",
   "nbconvert_exporter": "python",
   "pygments_lexer": "ipython3",
   "version": "3.9.18"
  }
 },
 "nbformat": 4,
 "nbformat_minor": 5
}
